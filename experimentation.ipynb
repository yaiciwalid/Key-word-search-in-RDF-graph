{
 "cells": [
  {
   "cell_type": "code",
   "execution_count": 1,
   "metadata": {},
   "outputs": [],
   "source": [
    "import networkx as nx\n",
    "from rdflib import Graph\n",
    "import rdflib\n",
    "from xml.dom import minidom\n",
    "import os\n",
    "from openai import OpenAI\n",
    "import plotly.graph_objects as go\n",
    "import time\n",
    "from utils import rdf_to_nx_graph, search_in_rdf_graph, graph_mots_cle, \\\n",
    "    graph_construct, produit_cartesien, ranking\n",
    "import numpy as np\n",
    "import matplotlib.pyplot as plt"
   ]
  },
  {
   "cell_type": "code",
   "execution_count": 2,
   "metadata": {},
   "outputs": [],
   "source": [
    "def plot_hist(ed,precision,recall,f1_score):\n",
    "    nb_elements = len(ed)\n",
    "\n",
    "    x = range(nb_elements)\n",
    "\n",
    "    bar_width = 0.2\n",
    "\n",
    "    colors = ['#1f77b4', '#ff7f0e', '#2ca02c', '#d62728']\n",
    "\n",
    "    fig, ax = plt.subplots()\n",
    "\n",
    "    for i in range(nb_elements):\n",
    "        ax.bar(x[i] - 1.5 * bar_width, ed[i], width=bar_width, color=colors[0])\n",
    "        ax.bar(x[i] - 0.5 * bar_width, precision[i], width=bar_width, color=colors[1])\n",
    "        ax.bar(x[i] + 0.5 * bar_width, recall[i], width=bar_width, color=colors[2])\n",
    "        ax.bar(x[i] + 1.5 * bar_width, f1_score[i], width=bar_width, color=colors[3])\n",
    "\n",
    "    ax.set_xticks(x)\n",
    "    ax.set_xticklabels([str(i) for i in range(1, nb_elements + 1)])\n",
    "\n",
    "    ax.legend(['Edit distance', 'Precision', 'Recall', 'F1 Score'])\n",
    "\n",
    "    plt.xlabel('Requete N°')\n",
    "    plt.ylabel('Valeurs')\n",
    "    plt.title('Histogramme des metriques pour chaque requetes')\n",
    "\n",
    "    plt.show()"
   ]
  },
  {
   "cell_type": "code",
   "execution_count": 4,
   "metadata": {},
   "outputs": [],
   "source": [
    "def search(keywords, client, rdf_data, ontologie = None):\n",
    "\n",
    "    rdf_graph = Graph()\n",
    "    rdf_graph.parse(data=rdf_data.toxml(), format=\"xml\")\n",
    "    nx_graph = rdf_to_nx_graph(rdf_graph)\n",
    "    if ontologie is not None:\n",
    "        ont = ontologie.toxml()\n",
    "    times = {}\n",
    "    time_start = time.time()\n",
    "    selected_elements = search_in_rdf_graph(rdf_graph, keywords, client, rdf_data.toxml(), ontologie=ont)\n",
    "    time_end = time.time()\n",
    "    times['etape1'] = time_end - time_start\n",
    "    time_start = time.time()\n",
    "    kw_cartesien_sub_graphs = produit_cartesien(selected_elements)\n",
    "    time_end = time.time()\n",
    "    times['produit_cartesien'] = time_end - time_start\n",
    "    best_rank = 0\n",
    "    optimal_graph = None\n",
    "    times['graph_construct']= 0\n",
    "    times['graph_mots_cle']= 0\n",
    "    times['ranking']= 0\n",
    "    time_start = time.time()\n",
    "    for i in range(len(kw_cartesien_sub_graphs)):\n",
    "        time2_start = time.time()\n",
    "        pred, nodes = graph_construct(kw_cartesien_sub_graphs[i], nx_graph)\n",
    "        time2_end = time.time()\n",
    "        times['graph_construct'] += time2_end - time2_start\n",
    "        time2_start = time.time()\n",
    "        graph_etape2 = graph_mots_cle(pred, nodes)\n",
    "        graph_etape1 = graph_mots_cle(kw_cartesien_sub_graphs[i]['predicates_kw'], kw_cartesien_sub_graphs[i]['nodes_kw'])\n",
    "        time2_end = time.time()\n",
    "        times['graph_mots_cle'] += time2_end - time2_start\n",
    "        time2_start = time.time()\n",
    "        rank = ranking(graph_etape1, graph_etape2)\n",
    "        time2_end = time.time()\n",
    "        times['ranking'] += time2_end - time2_start\n",
    "        if rank>best_rank:\n",
    "            best_rank = rank\n",
    "            optimal_graph = graph_etape2\n",
    "    time_end = time.time()\n",
    "    times['choix_meilleur_graph'] = time_end - time_start\n",
    "    return optimal_graph, times\n",
    "        "
   ]
  },
  {
   "cell_type": "code",
   "execution_count": 5,
   "metadata": {},
   "outputs": [],
   "source": [
    "def draw_graph_plotly(G):\n",
    "\n",
    "    pos = nx.spring_layout(G)\n",
    "\n",
    "    node_x = [pos[node][0] for node in G.nodes()]\n",
    "    node_y = [pos[node][1] for node in G.nodes()]\n",
    "    node_text_brieve = []\n",
    "    node_text = []\n",
    "    for i in G.nodes():\n",
    "        node_text_brieve.append(str(i).split(('/'))[-1])\n",
    "        node_text.append(str(i))\n",
    "    edge_text_brieve = [str(edge[2]['type']).split('/')[-1][:10]\n",
    "                        for edge in G.edges(data=True)]\n",
    "    edge_text = [str(edge[2]['type']) for edge in G.edges(data=True)]\n",
    "\n",
    "    # Create edges\n",
    "    edge_trace = go.Scatter(\n",
    "        x=[],\n",
    "        y=[],\n",
    "        line=dict(width=0.5, color='#888'),\n",
    "        hoverinfo='text',\n",
    "        mode='lines')\n",
    "\n",
    "    for edge in G.edges():\n",
    "        x0, y0 = pos[edge[0]]\n",
    "        x1, y1 = pos[edge[1]]\n",
    "        edge_trace['x'] += tuple([x0, x1, None])\n",
    "        edge_trace['y'] += tuple([y0, y1, None])\n",
    "\n",
    "    # Add edge weights\n",
    "    edge_trace.text = edge_text_brieve\n",
    "\n",
    "    # Create middle point coordinates for edge text\n",
    "    edge_text_trace = go.Scatter(\n",
    "        x=[(pos[edge[0]][0] + pos[edge[1]][0]) / 2 for edge in G.edges()],\n",
    "        y=[(pos[edge[0]][1] + pos[edge[1]][1]) / 2 for edge in G.edges()],\n",
    "        text=edge_trace.text,\n",
    "        mode='text',\n",
    "        hoverinfo='text',\n",
    "        hovertext=edge_text,\n",
    "        textposition='top center'\n",
    "    )\n",
    "\n",
    "    # Create nodes\n",
    "    node_trace = go.Scatter(\n",
    "        x=node_x,\n",
    "        y=node_y,\n",
    "        mode='markers+text',\n",
    "        hoverinfo='text',\n",
    "        text=node_text_brieve,\n",
    "        hovertext=node_text,\n",
    "        textposition='bottom center',\n",
    "        marker=dict(\n",
    "            showscale=True,\n",
    "            colorscale='YlGnBu',\n",
    "            size=10,\n",
    "            colorbar=dict(\n",
    "                thickness=15,\n",
    "                title='Node Connections',\n",
    "                xanchor='left',\n",
    "                titleside='right'\n",
    "            ),\n",
    "            line=dict(width=2)\n",
    "        )\n",
    "    )\n",
    "\n",
    "    # Create the figure\n",
    "    fig = go.Figure(data=[edge_trace, edge_text_trace, node_trace],\n",
    "                    layout=go.Layout(\n",
    "                        showlegend=False,\n",
    "                        hovermode='closest',\n",
    "                        margin=dict(b=0, l=0, r=0, t=0),\n",
    "                        xaxis=dict(showgrid=False, zeroline=False,\n",
    "                                   showticklabels=False),\n",
    "                        yaxis=dict(showgrid=False, zeroline=False,\n",
    "                                   showticklabels=False)\n",
    "                    ))\n",
    "\n",
    "    # Show the plot\n",
    "    fig.show()\n"
   ]
  },
  {
   "cell_type": "code",
   "execution_count": 6,
   "metadata": {},
   "outputs": [],
   "source": [
    "os.environ['OPENAI_API_KEY'] = \"\"\n",
    "\n",
    "client = OpenAI()"
   ]
  },
  {
   "cell_type": "markdown",
   "metadata": {},
   "source": [
    "# Experimentations sur le temps d'execution"
   ]
  },
  {
   "cell_type": "code",
   "execution_count": null,
   "metadata": {},
   "outputs": [],
   "source": [
    "file_path = \"Dataset/data.rdf.xml\"\n",
    "rdf_graph = Graph()\n",
    "\n",
    "with open(file_path, \"r\", encoding=\"utf-8\") as rdf_file:\n",
    "    rdf_data = minidom.parseString(rdf_file.read())\n",
    "\n",
    "rdf_graph.parse(data=rdf_data.toxml(), format=\"xml\")\n",
    "nx_graph = rdf_to_nx_graph(rdf_graph)"
   ]
  },
  {
   "cell_type": "code",
   "execution_count": 5,
   "metadata": {},
   "outputs": [],
   "source": [
    "requetes = []\n",
    "requetes.append([\"josh\",\"starring\"])\n",
    "requetes.append([\"Daniel\",\"starring\"])\n",
    "requetes.append([\"2005\",\"film\",\"starring\",\"director\"])\n",
    "requetes.append([\"name\",\"birthDate\",\"Camp Rock\"])\n",
    "requetes.append([\"releaseDate\",\"starring\",\"director\",\"Becoming_Human\"])\n",
    "requetes.append([\"title\",\"starring\", \"Guy\"])\n",
    "requetes.append([\"film\",\"starring\",\"2002\",\"name\",\"birthDate\"])\n",
    "requetes.append([\"director\",\"film\",\"2002\"])\n",
    "\n",
    "times = []\n",
    "for req in requetes:\n",
    "    for i in range(10):\n",
    "        time_start = time.time()\n",
    "        graph, time_exec = search(req,client,rdf_data)\n",
    "        time_end = time.time()\n",
    "        time_exec['total'] = time_end - time_start\n",
    "        time_exec['nb_noeuds'] = graph.number_of_nodes()\n",
    "        times.append(time_exec)"
   ]
  },
  {
   "cell_type": "code",
   "execution_count": 6,
   "metadata": {},
   "outputs": [
    {
     "name": "stdout",
     "output_type": "stream",
     "text": [
      "       Statistic     Value\n",
      "0         Median  0.018002\n",
      "1           Mean  0.048981\n",
      "2     ecart type  0.080550\n",
      "3            Min  0.004999\n",
      "4            Max  0.390057\n",
      "5  Mean nb nodes  3.750000\n"
     ]
    }
   ],
   "source": [
    "import pandas as pd\n",
    "import numpy as np\n",
    "\n",
    "temps_global = [temps['total'] for temps in times]\n",
    "\n",
    "median_value = np.median(temps_global)\n",
    "mean_value = np.mean(temps_global)\n",
    "std_deviation = np.std(temps_global)\n",
    "min_value = np.min(temps_global)\n",
    "max_value = np.max(temps_global)\n",
    "\n",
    "mean_nb_noeuds = np.mean([temps['nb_noeuds'] for temps in times])\n",
    "\n",
    "stats_df = pd.DataFrame({\n",
    "    'Statistic': ['Median', 'Mean', 'ecart type', 'Min', 'Max','Mean nb nodes'],\n",
    "    'Value': [median_value, mean_value, std_deviation, min_value, max_value, mean_nb_noeuds]\n",
    "})\n",
    "\n",
    "print(stats_df)"
   ]
  },
  {
   "cell_type": "code",
   "execution_count": 7,
   "metadata": {},
   "outputs": [
    {
     "data": {
      "application/vnd.plotly.v1+json": {
       "config": {
        "plotlyServerURL": "https://plot.ly"
       },
       "data": [
        {
         "labels": [
          "etape1",
          "produit_cartesien",
          "graph_construction",
          "ranking"
         ],
         "type": "pie",
         "values": [
          0.0009843766689300536,
          0.0002764463424682617,
          0.03303187489509583,
          0.001872408390045166
         ]
        }
       ],
       "layout": {
        "template": {
         "data": {
          "bar": [
           {
            "error_x": {
             "color": "#2a3f5f"
            },
            "error_y": {
             "color": "#2a3f5f"
            },
            "marker": {
             "line": {
              "color": "#E5ECF6",
              "width": 0.5
             },
             "pattern": {
              "fillmode": "overlay",
              "size": 10,
              "solidity": 0.2
             }
            },
            "type": "bar"
           }
          ],
          "barpolar": [
           {
            "marker": {
             "line": {
              "color": "#E5ECF6",
              "width": 0.5
             },
             "pattern": {
              "fillmode": "overlay",
              "size": 10,
              "solidity": 0.2
             }
            },
            "type": "barpolar"
           }
          ],
          "carpet": [
           {
            "aaxis": {
             "endlinecolor": "#2a3f5f",
             "gridcolor": "white",
             "linecolor": "white",
             "minorgridcolor": "white",
             "startlinecolor": "#2a3f5f"
            },
            "baxis": {
             "endlinecolor": "#2a3f5f",
             "gridcolor": "white",
             "linecolor": "white",
             "minorgridcolor": "white",
             "startlinecolor": "#2a3f5f"
            },
            "type": "carpet"
           }
          ],
          "choropleth": [
           {
            "colorbar": {
             "outlinewidth": 0,
             "ticks": ""
            },
            "type": "choropleth"
           }
          ],
          "contour": [
           {
            "colorbar": {
             "outlinewidth": 0,
             "ticks": ""
            },
            "colorscale": [
             [
              0,
              "#0d0887"
             ],
             [
              0.1111111111111111,
              "#46039f"
             ],
             [
              0.2222222222222222,
              "#7201a8"
             ],
             [
              0.3333333333333333,
              "#9c179e"
             ],
             [
              0.4444444444444444,
              "#bd3786"
             ],
             [
              0.5555555555555556,
              "#d8576b"
             ],
             [
              0.6666666666666666,
              "#ed7953"
             ],
             [
              0.7777777777777778,
              "#fb9f3a"
             ],
             [
              0.8888888888888888,
              "#fdca26"
             ],
             [
              1,
              "#f0f921"
             ]
            ],
            "type": "contour"
           }
          ],
          "contourcarpet": [
           {
            "colorbar": {
             "outlinewidth": 0,
             "ticks": ""
            },
            "type": "contourcarpet"
           }
          ],
          "heatmap": [
           {
            "colorbar": {
             "outlinewidth": 0,
             "ticks": ""
            },
            "colorscale": [
             [
              0,
              "#0d0887"
             ],
             [
              0.1111111111111111,
              "#46039f"
             ],
             [
              0.2222222222222222,
              "#7201a8"
             ],
             [
              0.3333333333333333,
              "#9c179e"
             ],
             [
              0.4444444444444444,
              "#bd3786"
             ],
             [
              0.5555555555555556,
              "#d8576b"
             ],
             [
              0.6666666666666666,
              "#ed7953"
             ],
             [
              0.7777777777777778,
              "#fb9f3a"
             ],
             [
              0.8888888888888888,
              "#fdca26"
             ],
             [
              1,
              "#f0f921"
             ]
            ],
            "type": "heatmap"
           }
          ],
          "heatmapgl": [
           {
            "colorbar": {
             "outlinewidth": 0,
             "ticks": ""
            },
            "colorscale": [
             [
              0,
              "#0d0887"
             ],
             [
              0.1111111111111111,
              "#46039f"
             ],
             [
              0.2222222222222222,
              "#7201a8"
             ],
             [
              0.3333333333333333,
              "#9c179e"
             ],
             [
              0.4444444444444444,
              "#bd3786"
             ],
             [
              0.5555555555555556,
              "#d8576b"
             ],
             [
              0.6666666666666666,
              "#ed7953"
             ],
             [
              0.7777777777777778,
              "#fb9f3a"
             ],
             [
              0.8888888888888888,
              "#fdca26"
             ],
             [
              1,
              "#f0f921"
             ]
            ],
            "type": "heatmapgl"
           }
          ],
          "histogram": [
           {
            "marker": {
             "pattern": {
              "fillmode": "overlay",
              "size": 10,
              "solidity": 0.2
             }
            },
            "type": "histogram"
           }
          ],
          "histogram2d": [
           {
            "colorbar": {
             "outlinewidth": 0,
             "ticks": ""
            },
            "colorscale": [
             [
              0,
              "#0d0887"
             ],
             [
              0.1111111111111111,
              "#46039f"
             ],
             [
              0.2222222222222222,
              "#7201a8"
             ],
             [
              0.3333333333333333,
              "#9c179e"
             ],
             [
              0.4444444444444444,
              "#bd3786"
             ],
             [
              0.5555555555555556,
              "#d8576b"
             ],
             [
              0.6666666666666666,
              "#ed7953"
             ],
             [
              0.7777777777777778,
              "#fb9f3a"
             ],
             [
              0.8888888888888888,
              "#fdca26"
             ],
             [
              1,
              "#f0f921"
             ]
            ],
            "type": "histogram2d"
           }
          ],
          "histogram2dcontour": [
           {
            "colorbar": {
             "outlinewidth": 0,
             "ticks": ""
            },
            "colorscale": [
             [
              0,
              "#0d0887"
             ],
             [
              0.1111111111111111,
              "#46039f"
             ],
             [
              0.2222222222222222,
              "#7201a8"
             ],
             [
              0.3333333333333333,
              "#9c179e"
             ],
             [
              0.4444444444444444,
              "#bd3786"
             ],
             [
              0.5555555555555556,
              "#d8576b"
             ],
             [
              0.6666666666666666,
              "#ed7953"
             ],
             [
              0.7777777777777778,
              "#fb9f3a"
             ],
             [
              0.8888888888888888,
              "#fdca26"
             ],
             [
              1,
              "#f0f921"
             ]
            ],
            "type": "histogram2dcontour"
           }
          ],
          "mesh3d": [
           {
            "colorbar": {
             "outlinewidth": 0,
             "ticks": ""
            },
            "type": "mesh3d"
           }
          ],
          "parcoords": [
           {
            "line": {
             "colorbar": {
              "outlinewidth": 0,
              "ticks": ""
             }
            },
            "type": "parcoords"
           }
          ],
          "pie": [
           {
            "automargin": true,
            "type": "pie"
           }
          ],
          "scatter": [
           {
            "fillpattern": {
             "fillmode": "overlay",
             "size": 10,
             "solidity": 0.2
            },
            "type": "scatter"
           }
          ],
          "scatter3d": [
           {
            "line": {
             "colorbar": {
              "outlinewidth": 0,
              "ticks": ""
             }
            },
            "marker": {
             "colorbar": {
              "outlinewidth": 0,
              "ticks": ""
             }
            },
            "type": "scatter3d"
           }
          ],
          "scattercarpet": [
           {
            "marker": {
             "colorbar": {
              "outlinewidth": 0,
              "ticks": ""
             }
            },
            "type": "scattercarpet"
           }
          ],
          "scattergeo": [
           {
            "marker": {
             "colorbar": {
              "outlinewidth": 0,
              "ticks": ""
             }
            },
            "type": "scattergeo"
           }
          ],
          "scattergl": [
           {
            "marker": {
             "colorbar": {
              "outlinewidth": 0,
              "ticks": ""
             }
            },
            "type": "scattergl"
           }
          ],
          "scattermapbox": [
           {
            "marker": {
             "colorbar": {
              "outlinewidth": 0,
              "ticks": ""
             }
            },
            "type": "scattermapbox"
           }
          ],
          "scatterpolar": [
           {
            "marker": {
             "colorbar": {
              "outlinewidth": 0,
              "ticks": ""
             }
            },
            "type": "scatterpolar"
           }
          ],
          "scatterpolargl": [
           {
            "marker": {
             "colorbar": {
              "outlinewidth": 0,
              "ticks": ""
             }
            },
            "type": "scatterpolargl"
           }
          ],
          "scatterternary": [
           {
            "marker": {
             "colorbar": {
              "outlinewidth": 0,
              "ticks": ""
             }
            },
            "type": "scatterternary"
           }
          ],
          "surface": [
           {
            "colorbar": {
             "outlinewidth": 0,
             "ticks": ""
            },
            "colorscale": [
             [
              0,
              "#0d0887"
             ],
             [
              0.1111111111111111,
              "#46039f"
             ],
             [
              0.2222222222222222,
              "#7201a8"
             ],
             [
              0.3333333333333333,
              "#9c179e"
             ],
             [
              0.4444444444444444,
              "#bd3786"
             ],
             [
              0.5555555555555556,
              "#d8576b"
             ],
             [
              0.6666666666666666,
              "#ed7953"
             ],
             [
              0.7777777777777778,
              "#fb9f3a"
             ],
             [
              0.8888888888888888,
              "#fdca26"
             ],
             [
              1,
              "#f0f921"
             ]
            ],
            "type": "surface"
           }
          ],
          "table": [
           {
            "cells": {
             "fill": {
              "color": "#EBF0F8"
             },
             "line": {
              "color": "white"
             }
            },
            "header": {
             "fill": {
              "color": "#C8D4E3"
             },
             "line": {
              "color": "white"
             }
            },
            "type": "table"
           }
          ]
         },
         "layout": {
          "annotationdefaults": {
           "arrowcolor": "#2a3f5f",
           "arrowhead": 0,
           "arrowwidth": 1
          },
          "autotypenumbers": "strict",
          "coloraxis": {
           "colorbar": {
            "outlinewidth": 0,
            "ticks": ""
           }
          },
          "colorscale": {
           "diverging": [
            [
             0,
             "#8e0152"
            ],
            [
             0.1,
             "#c51b7d"
            ],
            [
             0.2,
             "#de77ae"
            ],
            [
             0.3,
             "#f1b6da"
            ],
            [
             0.4,
             "#fde0ef"
            ],
            [
             0.5,
             "#f7f7f7"
            ],
            [
             0.6,
             "#e6f5d0"
            ],
            [
             0.7,
             "#b8e186"
            ],
            [
             0.8,
             "#7fbc41"
            ],
            [
             0.9,
             "#4d9221"
            ],
            [
             1,
             "#276419"
            ]
           ],
           "sequential": [
            [
             0,
             "#0d0887"
            ],
            [
             0.1111111111111111,
             "#46039f"
            ],
            [
             0.2222222222222222,
             "#7201a8"
            ],
            [
             0.3333333333333333,
             "#9c179e"
            ],
            [
             0.4444444444444444,
             "#bd3786"
            ],
            [
             0.5555555555555556,
             "#d8576b"
            ],
            [
             0.6666666666666666,
             "#ed7953"
            ],
            [
             0.7777777777777778,
             "#fb9f3a"
            ],
            [
             0.8888888888888888,
             "#fdca26"
            ],
            [
             1,
             "#f0f921"
            ]
           ],
           "sequentialminus": [
            [
             0,
             "#0d0887"
            ],
            [
             0.1111111111111111,
             "#46039f"
            ],
            [
             0.2222222222222222,
             "#7201a8"
            ],
            [
             0.3333333333333333,
             "#9c179e"
            ],
            [
             0.4444444444444444,
             "#bd3786"
            ],
            [
             0.5555555555555556,
             "#d8576b"
            ],
            [
             0.6666666666666666,
             "#ed7953"
            ],
            [
             0.7777777777777778,
             "#fb9f3a"
            ],
            [
             0.8888888888888888,
             "#fdca26"
            ],
            [
             1,
             "#f0f921"
            ]
           ]
          },
          "colorway": [
           "#636efa",
           "#EF553B",
           "#00cc96",
           "#ab63fa",
           "#FFA15A",
           "#19d3f3",
           "#FF6692",
           "#B6E880",
           "#FF97FF",
           "#FECB52"
          ],
          "font": {
           "color": "#2a3f5f"
          },
          "geo": {
           "bgcolor": "white",
           "lakecolor": "white",
           "landcolor": "#E5ECF6",
           "showlakes": true,
           "showland": true,
           "subunitcolor": "white"
          },
          "hoverlabel": {
           "align": "left"
          },
          "hovermode": "closest",
          "mapbox": {
           "style": "light"
          },
          "paper_bgcolor": "white",
          "plot_bgcolor": "#E5ECF6",
          "polar": {
           "angularaxis": {
            "gridcolor": "white",
            "linecolor": "white",
            "ticks": ""
           },
           "bgcolor": "#E5ECF6",
           "radialaxis": {
            "gridcolor": "white",
            "linecolor": "white",
            "ticks": ""
           }
          },
          "scene": {
           "xaxis": {
            "backgroundcolor": "#E5ECF6",
            "gridcolor": "white",
            "gridwidth": 2,
            "linecolor": "white",
            "showbackground": true,
            "ticks": "",
            "zerolinecolor": "white"
           },
           "yaxis": {
            "backgroundcolor": "#E5ECF6",
            "gridcolor": "white",
            "gridwidth": 2,
            "linecolor": "white",
            "showbackground": true,
            "ticks": "",
            "zerolinecolor": "white"
           },
           "zaxis": {
            "backgroundcolor": "#E5ECF6",
            "gridcolor": "white",
            "gridwidth": 2,
            "linecolor": "white",
            "showbackground": true,
            "ticks": "",
            "zerolinecolor": "white"
           }
          },
          "shapedefaults": {
           "line": {
            "color": "#2a3f5f"
           }
          },
          "ternary": {
           "aaxis": {
            "gridcolor": "white",
            "linecolor": "white",
            "ticks": ""
           },
           "baxis": {
            "gridcolor": "white",
            "linecolor": "white",
            "ticks": ""
           },
           "bgcolor": "#E5ECF6",
           "caxis": {
            "gridcolor": "white",
            "linecolor": "white",
            "ticks": ""
           }
          },
          "title": {
           "x": 0.05
          },
          "xaxis": {
           "automargin": true,
           "gridcolor": "white",
           "linecolor": "white",
           "ticks": "",
           "title": {
            "standoff": 15
           },
           "zerolinecolor": "white",
           "zerolinewidth": 2
          },
          "yaxis": {
           "automargin": true,
           "gridcolor": "white",
           "linecolor": "white",
           "ticks": "",
           "title": {
            "standoff": 15
           },
           "zerolinecolor": "white",
           "zerolinewidth": 2
          }
         }
        },
        "title": {
         "text": "Temps passé dans chaque partie de l'algorithme"
        }
       }
      }
     },
     "metadata": {},
     "output_type": "display_data"
    }
   ],
   "source": [
    "time_etape1 = np.mean([temps['etape1'] for temps in times])\n",
    "time_produit_cartesien = np.mean([temps['produit_cartesien'] for temps in times])\n",
    "time_choix_meilleur_graph = np.mean([temps['choix_meilleur_graph'] for temps in times])\n",
    "time_graph_construct = np.mean([temps['graph_construct'] for temps in times])\n",
    "time_graph_gen = np.mean([temps['graph_mots_cle'] for temps in times])\n",
    "time_ranking = np.mean([temps['ranking'] for temps in times])\n",
    "\n",
    "# Step 2: Create your data\n",
    "labels = ['etape1','produit_cartesien', 'graph_construction', 'ranking']\n",
    "values = [time_etape1, time_produit_cartesien, time_graph_construct, time_ranking]\n",
    "\n",
    "# Step 3: Create a pie chart using Plotly\n",
    "fig = go.Figure(data=[go.Pie(labels=labels, values=values)])\n",
    "\n",
    "# Step 4: Customize the layout\n",
    "fig.update_layout(title=\"Temps passé dans chaque partie de l'algorithme\")\n",
    "\n",
    "# Step 5: Show the plot\n",
    "fig.show()"
   ]
  },
  {
   "cell_type": "code",
   "execution_count": 14,
   "metadata": {},
   "outputs": [],
   "source": [
    "k = [[i for i in range(j*10,j*10+10)] for j in range(8)]\n",
    "def list_exec_time(k,times):\n",
    "    time_etape1 = np.sum([times[i]['etape1'] for i  in k])\n",
    "    time_produit_cartesien = np.sum([times[i]['produit_cartesien'] for i  in k])\n",
    "    time_graph_construct = np.sum([times[i]['graph_construct'] for i  in k])\n",
    "    time_ranking = np.sum([times[i]['ranking'] for i  in k])\n",
    "    return [time_etape1, time_produit_cartesien, time_graph_construct, time_ranking]\n"
   ]
  },
  {
   "cell_type": "code",
   "execution_count": 20,
   "metadata": {},
   "outputs": [
    {
     "data": {
      "image/png": "[encoded data removed]",
      "text/plain": [
       "<Figure size 1200x600 with 8 Axes>"
      ]
     },
     "metadata": {},
     "output_type": "display_data"
    }
   ],
   "source": [
    "import matplotlib.pyplot as plt\n",
    "\n",
    "lab = ['A','B', 'C', 'D']\n",
    "# Create your data for each pie chart\n",
    "labels = [lab for i in range(8)]\n",
    "values = [list_exec_time(k[0],times), list_exec_time(k[1],times), list_exec_time(k[2],times), list_exec_time(k[3],times),\n",
    "          list_exec_time(k[4],times), list_exec_time(k[5],times), list_exec_time(k[6],times), list_exec_time(k[7],times)]\n",
    "\n",
    "# Create subplots\n",
    "fig, axs = plt.subplots(2, 4, figsize=(12, 6))\n",
    "\n",
    "# Flatten the axs array for easy iteration\n",
    "axs = axs.flatten()\n",
    "\n",
    "# Plot each pie chart\n",
    "for i, (label, value) in enumerate(zip(labels, values)):\n",
    "    axs[i].pie(value, labels=label, autopct='%1.1f%%', startangle=90)\n",
    "    axs[i].set_title(f'requete {i+1}')\n",
    "legend_labels = {'A': 'etape1', 'B': 'produit_cartesien', 'C': 'graph_construct', 'D': 'ranking'}\n",
    "\n",
    "legend_list = [f\"{label}: {legend_labels[label]}\" for label in legend_labels]\n",
    "\n",
    "plt.tight_layout()\n",
    "\n",
    "fig.text(0.92, 0.5, '\\n'.join(legend_list), fontsize=12, verticalalignment='center')\n",
    "\n",
    "\n",
    "\n",
    "# Adjust layout\n",
    "plt.tight_layout()\n",
    "\n",
    "# Show the plot\n",
    "plt.show()"
   ]
  },
  {
   "cell_type": "markdown",
   "metadata": {},
   "source": [
    "# Experimentation sur la qualité des graph résultats"
   ]
  },
  {
   "cell_type": "code",
   "execution_count": 5,
   "metadata": {},
   "outputs": [],
   "source": [
    "def metrics(G1, G2): \n",
    "    #G1 is reference graph \n",
    "    edit_distance = nx.graph_edit_distance(G1, G2)\n",
    "    \n",
    "    TP = sum(1 for u, v, d in G1.edges(data=True) if G2.has_edge(u, v) and G2[u][v]['type'] == d['type']) + \\\n",
    "     sum(1 for n in G1.nodes() if G2.has_node(n))\n",
    "    FP = sum(1 for u, v, d in G2.edges(data=True) if not G1.has_edge(u, v) or G1[u][v]['type'] != d['type']) + \\\n",
    "     sum(1 for n in G2.nodes() if not G1.has_node(n))\n",
    "    FN = sum(1 for u, v, d in G1.edges(data=True) if not G2.has_edge(u, v) or G2[u][v]['type'] != d['type']) + \\\n",
    "     sum(1 for n in G1.nodes() if not G2.has_node(n))\n",
    "\n",
    "    # recall and precision\n",
    "    precision = TP / (TP + FP) if TP + FP != 0 else 0\n",
    "    recall = TP / (TP + FN) if TP + FN != 0 else 0\n",
    "    f1_score = 2 * (precision * recall) / (precision + recall) if precision + recall != 0 else 0\n",
    "\n",
    "    return edit_distance, precision, recall, f1_score"
   ]
  },
  {
   "cell_type": "markdown",
   "metadata": {},
   "source": [
    "## Films dataset"
   ]
  },
  {
   "cell_type": "code",
   "execution_count": null,
   "metadata": {},
   "outputs": [],
   "source": [
    "file_path = \"Dataset/data.rdf.xml\"\n",
    "\n",
    "with open(file_path, \"r\", encoding=\"utf-8\") as rdf_file:\n",
    "    rdf_data = minidom.parseString(rdf_file.read())"
   ]
  },
  {
   "cell_type": "markdown",
   "metadata": {},
   "source": [
    "### requetes"
   ]
  },
  {
   "cell_type": "code",
   "execution_count": 298,
   "metadata": {},
   "outputs": [],
   "source": [
    "requetes = []\n",
    "requetes.append([\"josh brown\",\"starring\"])\n",
    "requetes.append([\"film\",\"actor\",\"name\",\"2011\"])\n",
    "requetes.append(['Daniel Fathers','starring','name'])\n",
    "requetes.append([\"2005\",\"film\",\"starring\",\"director\"])\n",
    "requetes.append([\"name\",\"birthDate\",\"Camp Rock\"])\n",
    "requetes.append([\"releaseDate\",\"starring\",\"director\",\"Ma femme s'appelle Maurice\"])\n",
    "requetes.append([\"title\",\"director\", \"Mark\"])\n",
    "requetes.append([\"film\",\"starring\",\"2002\",\"name\",\"birthDate\"])\n",
    "requetes.append([\"director\",\"film\",\"2002\"])\n",
    "requetes.append([\"film\",\"actor\",\"2008\"])\n"
   ]
  },
  {
   "cell_type": "code",
   "execution_count": 333,
   "metadata": {},
   "outputs": [],
   "source": [
    "requetes_syn = []\n",
    "requetes_syn.append([\"josh brown\",\"played in\"])\n",
    "requetes_syn.append([\"movie\",\"actor\",\"name of actor\",\"2011\"])\n",
    "requetes_syn.append(['Daniel Fathers','acted in','name'])\n",
    "requetes_syn.append([\"2005\",\"film\",\"starring\",\"the person who direct a film\"])\n",
    "requetes_syn.append([\"name\",\"date of birth of actor\",\"Camp Rock\"])\n",
    "requetes_syn.append([\"date of film\",\"starring\",\"director\",\"Ma femme s'appelle Maurice\"])\n",
    "requetes_syn.append([\"title\",\"direc\", \"Mark\"])\n",
    "requetes_syn.append([\"film\",\"the verb of acting\",\"2002\",\"name\",\"birthDate\"])\n",
    "requetes_syn.append([\"director\",\"movi\",\"2002\"])\n",
    "requetes_syn.append([\"film\",\"actr\",\"2008\"])"
   ]
  },
  {
   "cell_type": "markdown",
   "metadata": {},
   "source": [
    "### graph reponse ideal"
   ]
  },
  {
   "cell_type": "code",
   "execution_count": 297,
   "metadata": {},
   "outputs": [],
   "source": [
    "graphs_ideal = []\n",
    "graph1 = graph_mots_cle([{'node_src':rdflib.term.URIRef('http://dbpedia.org/resource/Josh_Brown_(actor)'),\n",
    "                 'node_dest':rdflib.term.URIRef('http://dbpedia.org/resource/Becoming_Human'),\n",
    "                 'predicate':rdflib.term.URIRef('http://dbpedia.org/ontology/starring')}],\n",
    "                 [rdflib.term.URIRef('http://dbpedia.org/resource/Josh_Brown_(actor)'),rdflib.term.URIRef('http://dbpedia.org/resource/Becoming_Human')\n",
    "                  ])\n",
    "\n",
    "graph2 = graph_mots_cle([{'node_src':rdflib.term.URIRef('http://dbpedia.org/resource/Becoming_Human'),\n",
    "                          'node_dest':rdflib.term.URIRef('http://dbpedia.org/resource/Josh_Brown_(actor)'),\n",
    "                          'predicate':rdflib.term.URIRef('http://dbpedia.org/ontology/starring')},\n",
    "                          {'node_src':rdflib.term.URIRef('http://dbpedia.org/resource/Becoming_Human'),\n",
    "                           'node_dest':rdflib.term.Literal('2011-01-26', datatype=rdflib.term.URIRef('http://www.w3.org/2001/XMLSchema#date')),\n",
    "                           'predicate':rdflib.term.URIRef('http://dbpedia.org/ontology/releaseDate')},\n",
    "                           {'node_src':rdflib.term.URIRef('http://dbpedia.org/resource/Josh_Brown_(actor)'),\n",
    "                            'node_dest':rdflib.term.Literal('Josh Brown', lang='en'),\n",
    "                            'predicate':rdflib.term.URIRef('http://dbpedia.org/property/name')}],\n",
    "                        [rdflib.term.URIRef('http://dbpedia.org/resource/Becoming_Human'),\n",
    "                         rdflib.term.Literal('Josh Brown', lang='en'),\n",
    "                         rdflib.term.URIRef('http://dbpedia.org/resource/Josh_Brown_(actor)'),\n",
    "                         rdflib.term.Literal('2011-01-26', datatype=rdflib.term.URIRef('http://www.w3.org/2001/XMLSchema#date'))])\n",
    "\n",
    "graph3 = graph_mots_cle([{'node_src':rdflib.term.Literal('Daniel Fathers', lang='en'),\n",
    "                 'node_dest':rdflib.term.URIRef('http://dbpedia.org/resource/Daniel_Fathers'),\n",
    "                 'predicate':rdflib.term.URIRef('http://dbpedia.org/property/name')},\n",
    "                 {'node_src':rdflib.term.URIRef('http://dbpedia.org/resource/Daniel_Fathers'),\n",
    "                 'node_dest':rdflib.term.URIRef('http://dbpedia.org/resource/Camp_Rock'),\n",
    "                 'predicate':rdflib.term.URIRef('http://dbpedia.org/ontology/starring')}\n",
    "                 ],\n",
    "                 [rdflib.term.URIRef('http://dbpedia.org/resource/Daniel_Fathers'),\n",
    "                  rdflib.term.URIRef('http://dbpedia.org/resource/Camp_Rock'),\n",
    "                  rdflib.term.Literal('Daniel Fathers', lang='en')])\n",
    "\n",
    "graph4 = graph_mots_cle([{'node_src':rdflib.term.Literal('2005-08-27', datatype=rdflib.term.URIRef('http://www.w3.org/2001/XMLSchema#date')),\n",
    "                 'node_dest':rdflib.term.URIRef('http://dbpedia.org/resource/Pterodactyl_(film)'),\n",
    "                 'predicate':rdflib.term.URIRef('http://dbpedia.org/ontology/releaseDate')},\n",
    "                 {'node_src':rdflib.term.URIRef('http://dbpedia.org/resource/Pterodactyl_(film)'),\n",
    "                 'node_dest':rdflib.term.URIRef('http://dbpedia.org/resource/Mircea_Monroe'),\n",
    "                 'predicate':rdflib.term.URIRef('http://dbpedia.org/ontology/starring')},\n",
    "                 {'node_src':rdflib.term.URIRef('http://dbpedia.org/resource/Pterodactyl_(film)'),\n",
    "                 'node_dest':rdflib.term.URIRef('http://dbpedia.org/resource/Mark_L._Lester'),\n",
    "                 'predicate':rdflib.term.URIRef('http://dbpedia.org/ontology/director')}\n",
    "                 ],\n",
    "                 [rdflib.term.Literal('2005-08-27', datatype=rdflib.term.URIRef('http://www.w3.org/2001/XMLSchema#date')),\n",
    "                  rdflib.term.URIRef('http://dbpedia.org/resource/Pterodactyl_(film)'),\n",
    "                  rdflib.term.URIRef('http://dbpedia.org/resource/Mircea_Monroe'),\n",
    "                  rdflib.term.URIRef('http://dbpedia.org/resource/Mark_L._Lester')])\n",
    "\n",
    "graph5 = graph_mots_cle([{'node_src':rdflib.term.URIRef('http://dbpedia.org/resource/Daniel_Fathers'),\n",
    "                 'node_dest':rdflib.term.Literal('1966-03-23', datatype=rdflib.term.URIRef('http://www.w3.org/2001/XMLSchema#date')),\n",
    "                 'predicate':rdflib.term.URIRef('http://dbpedia.org/ontology/birthDate')},\n",
    "                 {'node_src':rdflib.term.URIRef('http://dbpedia.org/resource/Camp_Rock'),\n",
    "                 'node_dest':rdflib.term.URIRef('http://dbpedia.org/resource/Daniel_Fathers'),\n",
    "                 'predicate':rdflib.term.URIRef('http://dbpedia.org/ontology/starring')},\n",
    "                 {'node_src':rdflib.term.URIRef('http://dbpedia.org/resource/Daniel_Fathers'),\n",
    "                 'node_dest':rdflib.term.Literal('Daniel Fathers', lang='en'),\n",
    "                 'predicate':rdflib.term.URIRef('http://dbpedia.org/property/name')}\n",
    "                 ],\n",
    "                 [rdflib.term.URIRef('http://dbpedia.org/resource/Daniel_Fathers'),\n",
    "                 rdflib.term.URIRef('http://dbpedia.org/resource/Camp_Rock'),\n",
    "                 rdflib.term.Literal('1966-03-23', datatype=rdflib.term.URIRef('http://www.w3.org/2001/XMLSchema#date')),\n",
    "                 rdflib.term.Literal('Daniel Fathers', lang='en')])\n",
    "\n",
    "graph6 = graph_mots_cle([\n",
    "                 {'node_src':rdflib.term.URIRef(\"http://dbpedia.org/resource/Ma_femme_s'appelle_Maurice\"),\n",
    "                 'node_dest':rdflib.term.URIRef('http://dbpedia.org/resource/Régis_Laspalès'),\n",
    "                 'predicate':rdflib.term.URIRef('http://dbpedia.org/ontology/starring')},\n",
    "                 {'node_src':rdflib.term.URIRef(\"http://dbpedia.org/resource/Ma_femme_s'appelle_Maurice\"),\n",
    "                 'node_dest':rdflib.term.Literal(\"http://dbpedia.org/resource/Guy_Marchand\"),\n",
    "                 'predicate':rdflib.term.URIRef('http://dbpedia.org/ontology/starring')},\n",
    "                 {'node_src':rdflib.term.URIRef(\"http://dbpedia.org/resource/Ma_femme_s'appelle_Maurice\"),\n",
    "                 'node_dest':rdflib.term.Literal('2002-09-25', datatype=rdflib.term.URIRef('http://www.w3.org/2001/XMLSchema#date')),\n",
    "                 'predicate':rdflib.term.URIRef('http://dbpedia.org/ontology/releaseDate')},\n",
    "                 {'node_src':rdflib.term.URIRef(\"http://dbpedia.org/resource/Ma_femme_s'appelle_Maurice\"),\n",
    "                 'node_dest':rdflib.term.URIRef('http://dbpedia.org/resource/Jean-Marie_Poiré'),\n",
    "                 'predicate':rdflib.term.URIRef('http://dbpedia.org/ontology/director')}\n",
    "                 ],\n",
    "                 [rdflib.term.Literal('2002-09-25', datatype=rdflib.term.URIRef('http://www.w3.org/2001/XMLSchema#date')),\n",
    "                 rdflib.term.URIRef('http://dbpedia.org/resource/Régis_Laspalès'),\n",
    "                 rdflib.term.Literal(\"http://dbpedia.org/resource/Guy_Marchand\"),\n",
    "                 rdflib.term.URIRef('http://dbpedia.org/resource/Jean-Marie_Poiré'),\n",
    "                 rdflib.term.URIRef(\"http://dbpedia.org/resource/Ma_femme_s'appelle_Maurice\")])\n",
    "\n",
    "graph7 = graph_mots_cle([\n",
    "                 {'node_src':rdflib.term.URIRef('http://dbpedia.org/resource/Pterodactyl_(film)'),\n",
    "                  'node_dest':rdflib.term.Literal('Pterodactyl', lang='en'),\n",
    "                  'predicate':rdflib.term.URIRef('http://dbpedia.org/property/title')},\n",
    "                 {'node_src':rdflib.term.URIRef('http://dbpedia.org/resource/Pterodactyl_(film)'),\n",
    "                  'node_dest':rdflib.term.URIRef('http://dbpedia.org/resource/Mark_L._Lester'),\n",
    "                  'predicate':rdflib.term.URIRef('http://dbpedia.org/ontology/director')}\n",
    "                 ],\n",
    "                 [rdflib.term.URIRef('http://dbpedia.org/resource/Pterodactyl_(film)'),\n",
    "                 rdflib.term.Literal('Pterodactyl', lang='en'),\n",
    "                 rdflib.term.URIRef('http://dbpedia.org/resource/Mark_L._Lester'),\n",
    "                 ])\n",
    "\n",
    "graph8 = graph_mots_cle([\n",
    "                 {'node_src':rdflib.term.URIRef(\"http://dbpedia.org/resource/Ma_femme_s'appelle_Maurice\"),\n",
    "                 'node_dest':rdflib.term.URIRef('http://dbpedia.org/resource/Régis_Laspalès'),\n",
    "                 'predicate':rdflib.term.URIRef('http://dbpedia.org/ontology/starring')},\n",
    "                 {'node_src':rdflib.term.URIRef(\"http://dbpedia.org/resource/Ma_femme_s'appelle_Maurice\"),\n",
    "                 'node_dest':rdflib.term.Literal(\"http://dbpedia.org/resource/Guy_Marchand\"),\n",
    "                 'predicate':rdflib.term.URIRef('http://dbpedia.org/ontology/starring')},\n",
    "                 {'node_src':rdflib.term.URIRef('http://dbpedia.org/resource/Régis_Laspalès'),\n",
    "                 'node_dest':rdflib.term.Literal('1957-02-25', datatype=rdflib.term.URIRef('http://www.w3.org/2001/XMLSchema#date')),\n",
    "                 'predicate':rdflib.term.URIRef('http://dbpedia.org/ontology/birthDate')},\n",
    "                 {'node_src':rdflib.term.URIRef('http://dbpedia.org/resource/Régis_Laspalès'),\n",
    "                 'node_dest': rdflib.term.Literal('Régis Laspalès', lang='en'),\n",
    "                 'predicate':rdflib.term.URIRef('http://dbpedia.org/property/name')},\n",
    "                 {'node_src':rdflib.term.Literal(\"http://dbpedia.org/resource/Guy_Marchand\"),\n",
    "                 'node_dest': rdflib.term.Literal('1937-05-22', datatype=rdflib.term.URIRef('http://www.w3.org/2001/XMLSchema#date')),\n",
    "                 'predicate':rdflib.term.URIRef('http://dbpedia.org/ontology/birthDate')},\n",
    "                 {'node_src':rdflib.term.Literal(\"http://dbpedia.org/resource/Guy_Marchand\"),\n",
    "                 'node_dest': rdflib.term.Literal('Guy Marchand', lang='en'),\n",
    "                 'predicate':rdflib.term.URIRef('http://dbpedia.org/property/name')},\n",
    "                 {'node_src':rdflib.term.URIRef(\"http://dbpedia.org/resource/Ma_femme_s'appelle_Maurice\"),\n",
    "                 'node_dest':rdflib.term.Literal('2002-09-25', datatype=rdflib.term.URIRef('http://www.w3.org/2001/XMLSchema#date')),\n",
    "                 'predicate':rdflib.term.URIRef('http://dbpedia.org/ontology/releaseDate')}\n",
    "                 ],\n",
    "                 [rdflib.term.Literal('2002-09-25', datatype=rdflib.term.URIRef('http://www.w3.org/2001/XMLSchema#date')),\n",
    "                 rdflib.term.URIRef('http://dbpedia.org/resource/Régis_Laspalès'),\n",
    "                 rdflib.term.Literal(\"http://dbpedia.org/resource/Guy_Marchand\"),\n",
    "                 rdflib.term.URIRef(\"http://dbpedia.org/resource/Ma_femme_s'appelle_Maurice\"),\n",
    "                 rdflib.term.Literal('Guy Marchand', lang='en'),\n",
    "                 rdflib.term.Literal('1937-05-22', datatype=rdflib.term.URIRef('http://www.w3.org/2001/XMLSchema#date')),\n",
    "                 rdflib.term.Literal('Régis Laspalès', lang='en'),\n",
    "                 rdflib.term.Literal('1957-02-25', datatype=rdflib.term.URIRef('http://www.w3.org/2001/XMLSchema#date'))\n",
    "                 ])\n",
    "\n",
    "graph9 = graph_mots_cle([{'node_src':rdflib.term.URIRef(\"http://dbpedia.org/resource/Ma_femme_s'appelle_Maurice\"),\n",
    "                          'node_dest':rdflib.term.URIRef('http://dbpedia.org/resource/Jean-Marie_Poiré'),\n",
    "                          'predicate':rdflib.term.URIRef('http://dbpedia.org/ontology/director')},\n",
    "                          {'node_src':rdflib.term.URIRef(\"http://dbpedia.org/resource/Ma_femme_s'appelle_Maurice\"),\n",
    "                           'node_dest':rdflib.term.Literal('2002-09-25', datatype=rdflib.term.URIRef('http://www.w3.org/2001/XMLSchema#date')),\n",
    "                           'predicate':rdflib.term.URIRef('http://dbpedia.org/ontology/releaseDate')},\n",
    "                           ],\n",
    "                        [rdflib.term.URIRef(\"http://dbpedia.org/resource/Ma_femme_s'appelle_Maurice\"),\n",
    "                         rdflib.term.URIRef('http://dbpedia.org/resource/Jean-Marie_Poiré'),\n",
    "                         rdflib.term.Literal('2002-09-25', datatype=rdflib.term.URIRef('http://www.w3.org/2001/XMLSchema#date'))])\n",
    "\n",
    "graph10 = graph_mots_cle([{'node_src':rdflib.term.URIRef('http://dbpedia.org/resource/Becoming_Human'),\n",
    "                          'node_dest':rdflib.term.URIRef('http://dbpedia.org/resource/Josh_Brown_(actor)'),\n",
    "                          'predicate':rdflib.term.URIRef('http://dbpedia.org/ontology/starring')},\n",
    "                           {'node_src':rdflib.term.URIRef('http://dbpedia.org/resource/Josh_Brown_(actor)'),\n",
    "                            'node_dest':rdflib.term.Literal('1990-02-19', datatype=rdflib.term.URIRef('http://www.w3.org/2001/XMLSchema#date')),\n",
    "                            'predicate':rdflib.term.URIRef('http://dbpedia.org/ontology/birthDate')}],\n",
    "                        [rdflib.term.URIRef('http://dbpedia.org/resource/Becoming_Human'),\n",
    "                         rdflib.term.URIRef('http://dbpedia.org/resource/Josh_Brown_(actor)'),\n",
    "                         rdflib.term.Literal('1990-02-19', datatype=rdflib.term.URIRef('http://www.w3.org/2001/XMLSchema#date'))])\n",
    "\n",
    "graphs_ideal.extend([graph1,graph2,graph3,graph4,graph5,graph6,graph7,graph8,graph9,graph10])"
   ]
  },
  {
   "cell_type": "markdown",
   "metadata": {},
   "source": [
    "### evaluation requete exacte"
   ]
  },
  {
   "cell_type": "code",
   "execution_count": 295,
   "metadata": {},
   "outputs": [],
   "source": [
    "graphs_requetes = []\n",
    "for req in requetes:\n",
    "    graph, _ = search(req,client,rdf_data)\n",
    "    graphs_requetes.append(graph)"
   ]
  },
  {
   "cell_type": "code",
   "execution_count": 300,
   "metadata": {},
   "outputs": [],
   "source": [
    "ed= []\n",
    "precision = []\n",
    "recall = []\n",
    "f1_score = []\n",
    "for _, (graph_id, graph_req) in enumerate(zip(graphs_ideal,graphs_requetes)) :\n",
    "    edi, pr, rec, f1=metrics(graph_id,graph_req)\n",
    "    ed.append(edi)\n",
    "    precision.append(pr)\n",
    "    recall.append(rec)\n",
    "    f1_score.append(f1)"
   ]
  },
  {
   "cell_type": "code",
   "execution_count": 325,
   "metadata": {},
   "outputs": [
    {
     "data": {
      "image/png": "[encoded data removed]",
      "text/plain": [
       "<Figure size 640x480 with 1 Axes>"
      ]
     },
     "metadata": {},
     "output_type": "display_data"
    }
   ],
   "source": [
    "plot_hist(ed,precision,recall,f1_score)"
   ]
  },
  {
   "cell_type": "code",
   "execution_count": 320,
   "metadata": {},
   "outputs": [
    {
     "name": "stdout",
     "output_type": "stream",
     "text": [
      "Statistiques:\n",
      "               Moyenne    Ecart-type   Min         Max\n",
      "ED           : [1.6        1.49666295 0.         4.        ]\n",
      "Precision    : [0.74354978 0.2177335  0.33333333 1.        ]\n",
      "Recall       : [0.87111111 0.22084015 0.33333333 1.        ]\n",
      "F1 Score     : [0.79242979 0.21101787 0.38461538 1.        ]\n"
     ]
    }
   ],
   "source": [
    "\n",
    "ed_stats = [np.mean(ed), np.std(ed), np.min(ed), np.max(ed)]\n",
    "precision_stats = [np.mean(precision), np.std(precision), np.min(precision), np.max(precision)]\n",
    "recall_stats = [np.mean(recall), np.std(recall), np.min(recall), np.max(recall)]\n",
    "f1_score_stats = [np.mean(f1_score), np.std(f1_score), np.min(f1_score), np.max(f1_score)]\n",
    "\n",
    "stats_table = np.array([ed_stats, precision_stats, recall_stats, f1_score_stats])\n",
    "\n",
    "print(\"Statistiques:\")\n",
    "print(\"               Moyenne    Ecart-type   Min         Max\")\n",
    "print(\"Edit distance           :\", stats_table[0])\n",
    "print(\"Precision    :\", stats_table[1])\n",
    "print(\"Recall       :\", stats_table[2])\n",
    "print(\"F1 Score     :\", stats_table[3])"
   ]
  },
  {
   "cell_type": "markdown",
   "metadata": {},
   "source": [
    "### evaluation requete necessitant la fonction synonyme"
   ]
  },
  {
   "cell_type": "code",
   "execution_count": 334,
   "metadata": {},
   "outputs": [],
   "source": [
    "graphs_requetes_syn = []\n",
    "for req in requetes_syn:\n",
    "    graph, _ = search(req,client,rdf_data)\n",
    "    graphs_requetes_syn.append(graph)"
   ]
  },
  {
   "cell_type": "code",
   "execution_count": 335,
   "metadata": {},
   "outputs": [],
   "source": [
    "ed= []\n",
    "precision = []\n",
    "recall = []\n",
    "f1_score = []\n",
    "for _, (graph_id, graph_req) in enumerate(zip(graphs_ideal,graphs_requetes_syn)) :\n",
    "    edi, pr, rec, f1=metrics(graph_id,graph_req)\n",
    "    ed.append(edi)\n",
    "    precision.append(pr)\n",
    "    recall.append(rec)\n",
    "    f1_score.append(f1)"
   ]
  },
  {
   "cell_type": "code",
   "execution_count": 336,
   "metadata": {},
   "outputs": [
    {
     "data": {
      "image/png": "[encoded data removed]",
      "text/plain": [
       "<Figure size 640x480 with 1 Axes>"
      ]
     },
     "metadata": {},
     "output_type": "display_data"
    }
   ],
   "source": [
    "plot_hist(ed,precision,recall,f1_score)"
   ]
  },
  {
   "cell_type": "code",
   "execution_count": 337,
   "metadata": {},
   "outputs": [
    {
     "name": "stdout",
     "output_type": "stream",
     "text": [
      "Statistiques:\n",
      "               Moyenne    Ecart-type   Min         Max\n",
      "Edit distance: [1.6        1.49666295 0.         4.        ]\n",
      "Precision    : [0.74354978 0.2177335  0.33333333 1.        ]\n",
      "Recall       : [0.87111111 0.22084015 0.33333333 1.        ]\n",
      "F1 Score     : [0.79242979 0.21101787 0.38461538 1.        ]\n"
     ]
    }
   ],
   "source": [
    "ed_stats = [np.mean(ed), np.std(ed), np.min(ed), np.max(ed)]\n",
    "precision_stats = [np.mean(precision), np.std(precision), np.min(precision), np.max(precision)]\n",
    "recall_stats = [np.mean(recall), np.std(recall), np.min(recall), np.max(recall)]\n",
    "f1_score_stats = [np.mean(f1_score), np.std(f1_score), np.min(f1_score), np.max(f1_score)]\n",
    "\n",
    "stats_table = np.array([ed_stats, precision_stats, recall_stats, f1_score_stats])\n",
    "\n",
    "# Affichage du tableau\n",
    "print(\"Statistiques:\")\n",
    "print(\"               Moyenne    Ecart-type   Min         Max\")\n",
    "print(\"Edit distance:\", stats_table[0])\n",
    "print(\"Precision    :\", stats_table[1])\n",
    "print(\"Recall       :\", stats_table[2])\n",
    "print(\"F1 Score     :\", stats_table[3])"
   ]
  },
  {
   "cell_type": "markdown",
   "metadata": {},
   "source": [
    "## Livres dataset avec ontologie"
   ]
  },
  {
   "cell_type": "code",
   "execution_count": 7,
   "metadata": {},
   "outputs": [],
   "source": [
    "file_path = \"Dataset/livres.rdf.xml\"\n",
    "\n",
    "with open(file_path, \"r\", encoding=\"utf-8\") as rdf_file:\n",
    "    rdf_data = minidom.parseString(rdf_file.read())\n",
    "\n",
    "file_path_ontology = \"Dataset/livres_ontologie.owl.xml\"\n",
    "\n",
    "with open(file_path_ontology, \"r\", encoding=\"utf-8\") as rdf_file:\n",
    "    rdf_ontologie = minidom.parseString(rdf_file.read())\n"
   ]
  },
  {
   "cell_type": "markdown",
   "metadata": {},
   "source": [
    "### requetes"
   ]
  },
  {
   "cell_type": "code",
   "execution_count": 16,
   "metadata": {},
   "outputs": [],
   "source": [
    "requetes = []\n",
    "requetes.append([\"game_of_thrones\",\"author\",\"name\",\"publisher\"])\n",
    "requetes.append([\"authorname\",\"dateofbirth\",\"harry potter\"])\n",
    "requetes.append(['title','author','publisher','1997'])\n",
    "requetes.append([\"publishername\",\"the lord of the ring\"])\n",
    "requetes.append(['writer','dateofbirth','1892'])\n",
    "requetes.append(['jane austen','title','publishername'])\n",
    "requetes.append(['publishername','harry potter'])\n",
    "requetes.append(['J. K. Rowling','dateofbirth'])\n",
    "requetes.append(['title','publishername','authorname','dateofbirth','1775'])\n",
    "requetes.append(['George allen','title'])"
   ]
  },
  {
   "cell_type": "code",
   "execution_count": 9,
   "metadata": {},
   "outputs": [],
   "source": [
    "requetes_syn = []\n",
    "requetes_syn.append([\"game_of_thrones\",\"Composer\",\"name\",\"Imprint\"])\n",
    "requetes_syn.append([\"name of author\",\"birth date of author\",\"harry potter\"])\n",
    "requetes_syn.append(['Heading','author','publisher','1997'])\n",
    "requetes_syn.append([\"Firm\",\"the lord of the ring\"])\n",
    "requetes_syn.append(['Scribe','datbirth','1892'])\n",
    "requetes_syn.append(['jane austen','Caption','publishername'])\n",
    "requetes_syn.append(['Publishing company','harry potter'])\n",
    "requetes_syn.append(['J. K. Rowling','birth'])\n",
    "requetes_syn.append(['title','Publishing House','authorname','dateofbirth','1775'])\n",
    "requetes_syn.append(['George allen','Label'])"
   ]
  },
  {
   "cell_type": "markdown",
   "metadata": {},
   "source": [
    "### Graph des reponses ideal"
   ]
  },
  {
   "cell_type": "code",
   "execution_count": 10,
   "metadata": {},
   "outputs": [],
   "source": [
    "graphs_ideal = []\n",
    "\n",
    "graph1 = graph_mots_cle([\n",
    "                 {'node_src':rdflib.term.URIRef('http://dbpedia.org/resource/Game_of_Thrones'),\n",
    "                 'node_dest':rdflib.term.URIRef('http://dbpedia.org/resource/George_R._R._Martin'),\n",
    "                 'predicate':rdflib.term.URIRef('http://dbpedia.org/ontology/author')},\n",
    "                 {'node_src':rdflib.term.URIRef('http://dbpedia.org/resource/Game_of_Thrones'),\n",
    "                 'node_dest':rdflib.term.URIRef('http://dbpedia.org/resource/Bantam_Books'),\n",
    "                 'predicate':rdflib.term.URIRef('http://dbpedia.org/ontology/publisher')},\n",
    "                 {'node_src':rdflib.term.URIRef('http://dbpedia.org/resource/George_R._R._Martin'),\n",
    "                 'node_dest':rdflib.term.Literal('George R. R. Martin'),\n",
    "                 'predicate':rdflib.term.URIRef('http://xmlns.com/foaf/0.1/Authorname')}\n",
    "                 ],\n",
    "                 [rdflib.term.URIRef('http://dbpedia.org/resource/Game_of_Thrones'),\n",
    "                  rdflib.term.URIRef('http://dbpedia.org/resource/George_R._R._Martin'),\n",
    "                  rdflib.term.Literal('George R. R. Martin'),\n",
    "                  rdflib.term.URIRef('http://dbpedia.org/resource/Bantam_Books')])\n",
    "\n",
    "graph2 = graph_mots_cle([\n",
    "                 {'node_src':rdflib.term.URIRef('http://dbpedia.org/resource/Harry_Potter_'),\n",
    "                 'node_dest':rdflib.term.URIRef('http://dbpedia.org/resource/J._K._Rowling'),\n",
    "                 'predicate':rdflib.term.URIRef('http://dbpedia.org/ontology/author')},\n",
    "                 {'node_src':rdflib.term.URIRef('http://dbpedia.org/resource/J._K._Rowling'),\n",
    "                 'node_dest':rdflib.term.Literal('1965-07-31', datatype=rdflib.term.URIRef('http://www.w3.org/2001/XMLSchema#date')),\n",
    "                 'predicate':rdflib.term.URIRef('http://dbpedia.org/ontology/dateofbirth')},\n",
    "                 {'node_src':rdflib.term.URIRef('http://dbpedia.org/resource/J._K._Rowling'),\n",
    "                 'node_dest':rdflib.term.Literal('J. K. Rowling'),\n",
    "                 'predicate':rdflib.term.URIRef('http://xmlns.com/foaf/0.1/Authorname')}\n",
    "                 ],\n",
    "                 [rdflib.term.URIRef('http://dbpedia.org/resource/J._K._Rowling'),\n",
    "                  rdflib.term.URIRef('http://dbpedia.org/resource/Harry_Potter_'),\n",
    "                  rdflib.term.Literal('1965-07-31', datatype=rdflib.term.URIRef('http://www.w3.org/2001/XMLSchema#date')),\n",
    "                  rdflib.term.Literal('J. K. Rowling')])\n",
    "\n",
    "graph3 = graph_mots_cle([\n",
    "                 {'node_src':rdflib.term.URIRef('http://dbpedia.org/resource/Harry_Potter_'),\n",
    "                 'node_dest':rdflib.term.URIRef('http://dbpedia.org/resource/J._K._Rowling'),\n",
    "                 'predicate':rdflib.term.URIRef('http://dbpedia.org/ontology/author')},\n",
    "                 {'node_src':rdflib.term.URIRef('http://dbpedia.org/resource/Harry_Potter_'),\n",
    "                 'node_dest':rdflib.term.URIRef('http://dbpedia.org/resource/Bloomsbury_Publishing'),\n",
    "                 'predicate':rdflib.term.URIRef('http://dbpedia.org/ontology/publisher')},\n",
    "                 {'node_src':rdflib.term.URIRef('http://dbpedia.org/resource/Harry_Potter_'),\n",
    "                 'node_dest':rdflib.term.Literal(\"Harry Potter and the Philosopher's Stone\"),\n",
    "                 'predicate':rdflib.term.URIRef('http://xmlns.com/foaf/0.1/title')},\n",
    "                 {'node_src':rdflib.term.URIRef('http://dbpedia.org/resource/Harry_Potter_'),\n",
    "                 'node_dest':rdflib.term.Literal('1997-06-26', datatype=rdflib.term.URIRef('http://www.w3.org/2001/XMLSchema#date')),\n",
    "                 'predicate':rdflib.term.URIRef('http://dbpedia.org/ontology/publishingDate')}\n",
    "                 ],\n",
    "                 [rdflib.term.URIRef('http://dbpedia.org/resource/J._K._Rowling'),\n",
    "                  rdflib.term.URIRef('http://dbpedia.org/resource/Harry_Potter_'),\n",
    "                  rdflib.term.URIRef('http://dbpedia.org/resource/Bloomsbury_Publishing'),\n",
    "                  rdflib.term.Literal(\"Harry Potter and the Philosopher's Stone\"),\n",
    "                  rdflib.term.Literal('1997-06-26', datatype=rdflib.term.URIRef('http://www.w3.org/2001/XMLSchema#date'))])\n",
    "\n",
    "graph4 = graph_mots_cle([\n",
    "                 {'node_src':rdflib.term.URIRef('http://dbpedia.org/resource/The_Lord_of_the_Rings:_The_Fellowship_of_the_Ring'),\n",
    "                 'node_dest':rdflib.term.URIRef('http://dbpedia.org/resource/George_Allen_and_Unwin'),\n",
    "                 'predicate':rdflib.term.URIRef('http://dbpedia.org/ontology/publisher')},\n",
    "                 {'node_src':rdflib.term.URIRef('http://dbpedia.org/resource/George_Allen_and_Unwin'),\n",
    "                 'node_dest':rdflib.term.Literal('George Allen and Unwin'),\n",
    "                 'predicate':rdflib.term.URIRef('http://xmlns.com/foaf/0.1/publisherName')},\n",
    "                 ],\n",
    "                 [rdflib.term.URIRef('http://dbpedia.org/resource/The_Lord_of_the_Rings:_The_Fellowship_of_the_Ring'),\n",
    "                  rdflib.term.URIRef('http://dbpedia.org/resource/George_Allen_and_Unwin'),\n",
    "                  rdflib.term.Literal('George Allen and Unwin'),\n",
    "                  ])\n",
    "\n",
    "graph5 = graph_mots_cle([\n",
    "                 {'node_src':rdflib.term.URIRef('http://dbpedia.org/resource/J._R._R._Tolkien'),\n",
    "                 'node_dest':rdflib.term.Literal('1892-01-03', datatype=rdflib.term.URIRef('http://www.w3.org/2001/XMLSchema#date')),\n",
    "                 'predicate':rdflib.term.URIRef('http://dbpedia.org/ontology/dateofbirth')},\n",
    "                 {'node_src':rdflib.term.URIRef('http://dbpedia.org/resource/J._R._R._Tolkien'),\n",
    "                 'node_dest':rdflib.term.Literal('J. R. R. Tolkien'),\n",
    "                 'predicate':rdflib.term.URIRef('http://xmlns.com/foaf/0.1/Authorname')}\n",
    "                 ],\n",
    "                 [rdflib.term.URIRef('http://dbpedia.org/resource/J._R._R._Tolkien'),\n",
    "                  rdflib.term.Literal('1892-01-03', datatype=rdflib.term.URIRef('http://www.w3.org/2001/XMLSchema#date')),\n",
    "                  rdflib.term.Literal('J. R. R. Tolkien')])\n",
    "\n",
    "graph6 = graph_mots_cle([\n",
    "                 {'node_src':rdflib.term.URIRef('http://dbpedia.org/resource/Pride_'),\n",
    "                 'node_dest':rdflib.term.URIRef('http://dbpedia.org/resource/Jane_Austen'),\n",
    "                 'predicate':rdflib.term.URIRef('http://dbpedia.org/ontology/author')},\n",
    "                 {'node_src':rdflib.term.URIRef('http://dbpedia.org/resource/Pride_'),\n",
    "                 'node_dest':rdflib.term.Literal('Pride and Prejudice'),\n",
    "                 'predicate':rdflib.term.URIRef('http://xmlns.com/foaf/0.1/title')},\n",
    "                 {'node_src':rdflib.term.URIRef('http://dbpedia.org/resource/Pride_'),\n",
    "                 'node_dest':rdflib.term.URIRef('http://dbpedia.org/resource/Thomas_Egerton_(publisher)'),\n",
    "                 'predicate':rdflib.term.URIRef('http://dbpedia.org/ontology/publisher')},\n",
    "                 {'node_src':rdflib.term.URIRef('http://dbpedia.org/resource/Thomas_Egerton_(publisher)'),\n",
    "                 'node_dest':rdflib.term.Literal('Thomas Egerton (publisher)'),\n",
    "                 'predicate':rdflib.term.URIRef('http://xmlns.com/foaf/0.1/publisherName')},\n",
    "                 {'node_src':rdflib.term.URIRef('http://dbpedia.org/resource/Jane_Austen'),\n",
    "                 'node_dest':rdflib.term.Literal('Jane Austen'),\n",
    "                 'predicate':rdflib.term.URIRef('http://xmlns.com/foaf/0.1/Authorname')}\n",
    "                 ],\n",
    "                 [rdflib.term.URIRef('http://dbpedia.org/resource/Jane_Austen'),\n",
    "                  rdflib.term.URIRef('http://dbpedia.org/resource/Pride_'),\n",
    "                  rdflib.term.URIRef('http://dbpedia.org/resource/Thomas_Egerton_(publisher)'),\n",
    "                  rdflib.term.Literal('Thomas Egerton (publisher)'),\n",
    "                  rdflib.term.Literal('Pride and Prejudice'),\n",
    "                  rdflib.term.Literal('Jane Austen')])\n",
    "\n",
    "graph7 = graph_mots_cle([\n",
    "                 {'node_src':rdflib.term.URIRef('http://dbpedia.org/resource/Harry_Potter_'),\n",
    "                 'node_dest':rdflib.term.URIRef('http://dbpedia.org/resource/Bloomsbury_Publishing'),\n",
    "                 'predicate':rdflib.term.URIRef('http://dbpedia.org/ontology/publisher')},\n",
    "                 {'node_src':rdflib.term.URIRef('http://dbpedia.org/resource/Harry_Potter_'),\n",
    "                 'node_dest':rdflib.term.Literal(\"Harry Potter and the Philosopher's Stone\"),\n",
    "                 'predicate':rdflib.term.URIRef('http://xmlns.com/foaf/0.1/title')},\n",
    "                 {'node_src':rdflib.term.URIRef('http://dbpedia.org/resource/Bloomsbury_Publishing'),\n",
    "                 'node_dest':rdflib.term.Literal('Bloomsbury Publishing'),\n",
    "                 'predicate':rdflib.term.URIRef('http://xmlns.com/foaf/0.1/publisherName')}\n",
    "                 ],\n",
    "                 [rdflib.term.URIRef('http://dbpedia.org/resource/Harry_Potter_'),\n",
    "                  rdflib.term.URIRef('http://dbpedia.org/resource/Bloomsbury_Publishing'),\n",
    "                  rdflib.term.Literal('Bloomsbury Publishing'),\n",
    "                  rdflib.term.Literal(\"Harry Potter and the Philosopher's Stone\")])\n",
    "\n",
    "graph8 = graph_mots_cle([\n",
    "                 {'node_src':rdflib.term.URIRef('http://dbpedia.org/resource/J._K._Rowling'),\n",
    "                 'node_dest':rdflib.term.Literal('1965-07-31', datatype=rdflib.term.URIRef('http://www.w3.org/2001/XMLSchema#date')),\n",
    "                 'predicate':rdflib.term.URIRef('http://dbpedia.org/ontology/dateofbirth')}\n",
    "                 ],\n",
    "                 [rdflib.term.URIRef('http://dbpedia.org/resource/J._K._Rowling'),\n",
    "                  rdflib.term.Literal('1965-07-31', datatype=rdflib.term.URIRef('http://www.w3.org/2001/XMLSchema#date')),\n",
    "                  ])\n",
    "\n",
    "graph9 = graph_mots_cle([\n",
    "                 {'node_src':rdflib.term.URIRef('http://dbpedia.org/resource/Pride_'),\n",
    "                 'node_dest':rdflib.term.URIRef('http://dbpedia.org/resource/Jane_Austen'),\n",
    "                 'predicate':rdflib.term.URIRef('http://dbpedia.org/ontology/author')},\n",
    "                 {'node_src':rdflib.term.URIRef('http://dbpedia.org/resource/Pride_'),\n",
    "                 'node_dest':rdflib.term.Literal('Pride and Prejudice'),\n",
    "                 'predicate':rdflib.term.URIRef('http://xmlns.com/foaf/0.1/title')},\n",
    "                 {'node_src':rdflib.term.URIRef('http://dbpedia.org/resource/Pride_'),\n",
    "                 'node_dest':rdflib.term.URIRef('http://dbpedia.org/resource/Thomas_Egerton_(publisher)'),\n",
    "                 'predicate':rdflib.term.URIRef('http://dbpedia.org/ontology/publisher')},\n",
    "                 {'node_src':rdflib.term.URIRef('http://dbpedia.org/resource/Thomas_Egerton_(publisher)'),\n",
    "                 'node_dest':rdflib.term.Literal('Thomas Egerton (publisher)'),\n",
    "                 'predicate':rdflib.term.URIRef('http://xmlns.com/foaf/0.1/publisherName')},\n",
    "                 {'node_src':rdflib.term.URIRef('http://dbpedia.org/resource/Jane_Austen'),\n",
    "                 'node_dest':rdflib.term.Literal('Jane Austen'),\n",
    "                 'predicate':rdflib.term.URIRef('http://xmlns.com/foaf/0.1/Authorname')},\n",
    "                 {'node_src':rdflib.term.URIRef('http://dbpedia.org/resource/Jane_Austen'),\n",
    "                 'node_dest':rdflib.term.Literal('1775-12-16', datatype=rdflib.term.URIRef('http://www.w3.org/2001/XMLSchema#date')),\n",
    "                 'predicate':rdflib.term.URIRef('http://dbpedia.org/ontology/dateofbirth')}\n",
    "                 ],\n",
    "                 [rdflib.term.URIRef('http://dbpedia.org/resource/Jane_Austen'),\n",
    "                  rdflib.term.URIRef('http://dbpedia.org/resource/Pride_'),\n",
    "                  rdflib.term.URIRef('http://dbpedia.org/resource/Thomas_Egerton_(publisher)'),\n",
    "                  rdflib.term.Literal('Thomas Egerton (publisher)'),\n",
    "                  rdflib.term.Literal('Pride and Prejudice'),\n",
    "                  rdflib.term.Literal('Jane Austen'),\n",
    "                  rdflib.term.Literal('1775-12-16', datatype=rdflib.term.URIRef('http://www.w3.org/2001/XMLSchema#date'))])\n",
    "\n",
    "graph10 = graph_mots_cle([\n",
    "                 {'node_src':rdflib.term.URIRef('http://dbpedia.org/resource/George_Allen_and_Unwin'),\n",
    "                 'node_dest':rdflib.term.Literal('George Allen and Unwin'),\n",
    "                 'predicate':rdflib.term.URIRef('http://xmlns.com/foaf/0.1/publisherName')},\n",
    "                 {'node_src':rdflib.term.URIRef('http://dbpedia.org/resource/The_Lord_of_the_Rings:_The_Fellowship_of_the_Ring'),\n",
    "                 'node_dest':rdflib.term.URIRef('http://dbpedia.org/resource/George_Allen_and_Unwin'),\n",
    "                 'predicate':rdflib.term.URIRef('http://dbpedia.org/ontology/publisher')}\n",
    "                 ],\n",
    "                 [rdflib.term.URIRef('http://dbpedia.org/resource/The_Lord_of_the_Rings:_The_Fellowship_of_the_Ring'),\n",
    "                  rdflib.term.URIRef('http://dbpedia.org/resource/George_Allen_and_Unwin'),\n",
    "                  rdflib.term.Literal('George Allen and Unwin')\n",
    "                  ])\n",
    "graphs_ideal.extend([graph1,graph2,graph3,graph4,graph5,graph6,graph7,graph8,graph9,graph10])"
   ]
  },
  {
   "cell_type": "markdown",
   "metadata": {},
   "source": [
    "### evaluation requete exacte"
   ]
  },
  {
   "cell_type": "code",
   "execution_count": 119,
   "metadata": {},
   "outputs": [],
   "source": [
    "graphs_requetes = []\n",
    "for req in requetes:\n",
    "    graph, _ = search(req,client,rdf_data)\n",
    "    graphs_requetes.append(graph)"
   ]
  },
  {
   "cell_type": "code",
   "execution_count": 120,
   "metadata": {},
   "outputs": [],
   "source": [
    "ed= []\n",
    "precision = []\n",
    "recall = []\n",
    "f1_score = []\n",
    "for _, (graph_id, graph_req) in enumerate(zip(graphs_ideal,graphs_requetes)) :\n",
    "    edi, pr, rec, f1=metrics(graph_id,graph_req)\n",
    "    ed.append(edi)\n",
    "    precision.append(pr)\n",
    "    recall.append(rec)\n",
    "    f1_score.append(f1)"
   ]
  },
  {
   "cell_type": "code",
   "execution_count": 121,
   "metadata": {},
   "outputs": [
    {
     "data": {
      "image/png": "[encoded data removed]",
      "text/plain": [
       "<Figure size 640x480 with 1 Axes>"
      ]
     },
     "metadata": {},
     "output_type": "display_data"
    }
   ],
   "source": [
    "plot_hist(ed,precision,recall,f1_score)"
   ]
  },
  {
   "cell_type": "code",
   "execution_count": 123,
   "metadata": {},
   "outputs": [
    {
     "name": "stdout",
     "output_type": "stream",
     "text": [
      "Statistiques:\n",
      "               Moyenne    Ecart-type   Min         Max\n",
      "Edit distance: [1.4        0.91651514 0.         2.        ]\n",
      "Precision    : [0.76262404 0.14947639 0.55555556 1.        ]\n",
      "Recall       : [0.93142857 0.13950349 0.6        1.        ]\n",
      "F1 Score     : [0.83333333 0.13170885 0.6        1.        ]\n"
     ]
    }
   ],
   "source": [
    "ed_stats = [np.mean(ed), np.std(ed), np.min(ed), np.max(ed)]\n",
    "precision_stats = [np.mean(precision), np.std(precision), np.min(precision), np.max(precision)]\n",
    "recall_stats = [np.mean(recall), np.std(recall), np.min(recall), np.max(recall)]\n",
    "f1_score_stats = [np.mean(f1_score), np.std(f1_score), np.min(f1_score), np.max(f1_score)]\n",
    "\n",
    "stats_table = np.array([ed_stats, precision_stats, recall_stats, f1_score_stats])\n",
    "\n",
    "print(\"Statistiques:\")\n",
    "print(\"               Moyenne    Ecart-type   Min         Max\")\n",
    "print(\"Edit distance:\", stats_table[0])\n",
    "print(\"Precision    :\", stats_table[1])\n",
    "print(\"Recall       :\", stats_table[2])\n",
    "print(\"F1 Score     :\", stats_table[3])"
   ]
  },
  {
   "cell_type": "markdown",
   "metadata": {},
   "source": [
    "### evaluation requete necessitant la fonction synonyme"
   ]
  },
  {
   "cell_type": "code",
   "execution_count": 11,
   "metadata": {},
   "outputs": [],
   "source": [
    "graphs_requetes_syn = []\n",
    "for req in requetes_syn:\n",
    "    graph, _ = search(req,client,rdf_data,ontologie=rdf_ontologie)\n",
    "    graphs_requetes_syn.append(graph)"
   ]
  },
  {
   "cell_type": "code",
   "execution_count": 12,
   "metadata": {},
   "outputs": [],
   "source": [
    "ed= []\n",
    "precision = []\n",
    "recall = []\n",
    "f1_score = []\n",
    "for _, (graph_id, graph_req) in enumerate(zip(graphs_ideal,graphs_requetes_syn)) :\n",
    "    edi, pr, rec, f1=metrics(graph_id,graph_req)\n",
    "    ed.append(edi)\n",
    "    precision.append(pr)\n",
    "    recall.append(rec)\n",
    "    f1_score.append(f1)"
   ]
  },
  {
   "cell_type": "code",
   "execution_count": 13,
   "metadata": {},
   "outputs": [
    {
     "data": {
      "image/png": "[encoded data removed]",
      "text/plain": [
       "<Figure size 640x480 with 1 Axes>"
      ]
     },
     "metadata": {},
     "output_type": "display_data"
    }
   ],
   "source": [
    "plot_hist(ed,precision,recall,f1_score)"
   ]
  },
  {
   "cell_type": "code",
   "execution_count": 14,
   "metadata": {},
   "outputs": [
    {
     "name": "stdout",
     "output_type": "stream",
     "text": [
      "Statistiques:\n",
      "               Moyenne    Ecart-type   Min         Max\n",
      "Edit distance: [1.2       0.9797959 0.        2.       ]\n",
      "Precision    : [0.76770341 0.1629941  0.42857143 1.        ]\n",
      "Recall       : [0.91604396 0.13957619 0.6        1.        ]\n",
      "F1 Score     : [0.82937729 0.13989567 0.5        1.        ]\n"
     ]
    }
   ],
   "source": [
    "ed_stats = [np.mean(ed), np.std(ed), np.min(ed), np.max(ed)]\n",
    "precision_stats = [np.mean(precision), np.std(precision), np.min(precision), np.max(precision)]\n",
    "recall_stats = [np.mean(recall), np.std(recall), np.min(recall), np.max(recall)]\n",
    "f1_score_stats = [np.mean(f1_score), np.std(f1_score), np.min(f1_score), np.max(f1_score)]\n",
    "\n",
    "stats_table = np.array([ed_stats, precision_stats, recall_stats, f1_score_stats])\n",
    "\n",
    "print(\"Statistiques:\")\n",
    "print(\"               Moyenne    Ecart-type   Min         Max\")\n",
    "print(\"Edit distance:\", stats_table[0])\n",
    "print(\"Precision    :\", stats_table[1])\n",
    "print(\"Recall       :\", stats_table[2])\n",
    "print(\"F1 Score     :\", stats_table[3])"
   ]
  }
 ],
 "metadata": {
  "kernelspec": {
   "display_name": "venv",
   "language": "python",
   "name": "python3"
  },
  "language_info": {
   "codemirror_mode": {
    "name": "ipython",
    "version": 3
   },
   "file_extension": ".py",
   "mimetype": "text/x-python",
   "name": "python",
   "nbconvert_exporter": "python",
   "pygments_lexer": "ipython3",
   "version": "3.10.8"
  }
 },
 "nbformat": 4,
 "nbformat_minor": 2
}
